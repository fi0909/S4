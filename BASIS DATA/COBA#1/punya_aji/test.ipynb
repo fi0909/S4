{
 "cells": [
  {
   "cell_type": "code",
   "execution_count": 2,
   "metadata": {},
   "outputs": [
    {
     "data": {
      "text/plain": [
       "5"
      ]
     },
     "execution_count": 2,
     "metadata": {},
     "output_type": "execute_result"
    }
   ],
   "source": [
    "matriks = [[1,2,3],[4,5,6],[7,8,9]]\n",
    "\n",
    "matriks[1][1]"
   ]
  },
  {
   "cell_type": "code",
   "execution_count": 1,
   "metadata": {},
   "outputs": [],
   "source": [
    "import pandas as pd\n",
    "from sklearn.model_selection import train_test_split\n",
    "from sklearn.linear_model import LinearRegression\n",
    "from sklearn.tree import DecisionTreeClassifier\n",
    "from sklearn.svm import SVC\n",
    "from sklearn.metrics import accuracy_score, precision_score, recall_score, f1_score\n",
    "\n",
    "# Membuat DataFrame\n",
    "data = {\n",
    "    'CO (ppm)': [15, 20, 25],\n",
    "    'HC (ppm)': [200, 250, 300],\n",
    "    'NOx (ppm)': [50, 55, 60],\n",
    "    'Partikulat (μg/m³)': [30, 35, 40],\n",
    "    'Kecepatan (km/h)': [60, 65, 70],\n",
    "    'Suhu Mesin (°C)': [75, 78, 80]\n",
    "}\n",
    "df = pd.DataFrame(data)\n",
    "\n",
    "# Fitur dan Target\n",
    "X = df[['CO (ppm)', 'HC (ppm)', 'NOx (ppm)', 'Partikulat (μg/m³)', 'Kecepatan (km/h)', 'Suhu Mesin (°C)']]\n",
    "y = [1, 0, 1]  # Contoh label, sesuaikan dengan data yang sesuai\n",
    "\n",
    "# Split data\n",
    "X_train, X_test, y_train, y_test = train_test_split(X, y, test_size=0.2, random_state=42)\n",
    "\n",
    "# Regresi Linear\n",
    "model_lr = LinearRegression()\n",
    "model_lr.fit(X_train, y_train)\n",
    "y_pred_lr = model_lr.predict(X_test)\n",
    "y_pred_lr = [round(pred) for pred in y_pred_lr]\n",
    "\n",
    "# Decision Trees\n",
    "model_dt = DecisionTreeClassifier(random_state=42)\n",
    "model_dt.fit(X_train, y_train)\n",
    "y_pred_dt = model_dt.predict(X_test)\n",
    "\n",
    "# Support Vector Machine (SVM)\n",
    "model_svm = SVC(kernel='linear')\n",
    "model_svm.fit(X_train, y_train)\n",
    "y_pred_svm = model_svm.predict(X_test)\n",
    "\n",
    "# Evaluasi Model\n",
    "def evaluate_model(y_test, y_pred):\n",
    "    accuracy = accuracy_score(y_test, y_pred) * 100\n",
    "    precision = precision_score(y_test, y_pred)\n",
    "    recall = recall_score(y_test, y_pred)\n",
    "    f1 = f1_score(y_test, y_pred)\n",
    "    return accuracy, precision, recall, f1\n",
    "\n",
    "results_lr = evaluate_model(y_test, y_pred_lr)\n",
    "results_dt = evaluate_model(y_test, y_pred_dt)\n",
    "results_svm = evaluate_model(y_test, y_pred_svm)\n",
    "\n",
    "# Print results\n",
    "print(f\"Regresi Linear: Akurasi: {results_lr[0]:.2f}%, Precision: {results_lr[1]:.2f}, Recall: {results_lr[2]:.2f}, F1-Score: {results_lr[3]:.2f}\")\n",
    "print(f\"Decision Trees: Akurasi: {results_dt[0]:.2f}%, Precision: {results_dt[1]:.2f}, Recall: {results_dt[2]:.2f}, F1-Score: {results_dt[3]:.2f}\")\n",
    "print(f\"Support Vector Machine: Akurasi: {results_svm[0]:.2f}%, Precision: {results_svm[1]:.2f}, Recall: {results_svm[2]:.2f}, F1-Score: {results_svm[3]:.2f}\")"
   ]
  }
 ],
 "metadata": {
  "kernelspec": {
   "display_name": "Python 3",
   "language": "python",
   "name": "python3"
  },
  "language_info": {
   "codemirror_mode": {
    "name": "ipython",
    "version": 3
   },
   "file_extension": ".py",
   "mimetype": "text/x-python",
   "name": "python",
   "nbconvert_exporter": "python",
   "pygments_lexer": "ipython3",
   "version": "3.12.1"
  }
 },
 "nbformat": 4,
 "nbformat_minor": 2
}
