{
 "cells": [
  {
   "cell_type": "code",
   "execution_count": 1,
   "metadata": {},
   "outputs": [],
   "source": [
    "import mysql.connector as sql"
   ]
  },
  {
   "cell_type": "code",
   "execution_count": 6,
   "metadata": {},
   "outputs": [
    {
     "name": "stdout",
     "output_type": "stream",
     "text": [
      "there was an error with connection\n",
      "Error Code:  1045\n",
      "Error Message:  Access denied for user 'root'@'localhost' (using password: YES)\n"
     ]
    }
   ],
   "source": [
    "try:\n",
    "    conn = sql.connect(\n",
    "        host=\"localhost\",\n",
    "        username=\"root\",\n",
    "        password = \"password_salah\",\n",
    "    )\n",
    "except sql.Error as er:\n",
    "    print(\"there was an error with connection\")\n",
    "    print(\"Error Code: \", er.errno)\n",
    "    print(\"Error Message: \", er.msg)"
   ]
  },
  {
   "cell_type": "code",
   "execution_count": 12,
   "metadata": {},
   "outputs": [],
   "source": [
    "try:\n",
    "    conn = sql.connect(\n",
    "        host=\"localhost\",\n",
    "        username=\"root\",\n",
    "        password = \"luthfiku12345\",\n",
    "    )\n",
    "except :\n",
    "    print(\"there was an error with connection\")"
   ]
  },
  {
   "cell_type": "code",
   "execution_count": 19,
   "metadata": {},
   "outputs": [],
   "source": [
    "cursor = conn.cursor()\n",
    "cursor.execute(\"CREATE DATABASE pertemuan14\")\n",
    "cursor.execute(\"USE pertemuan14\")\n",
    "create_table = \"\"\"\n",
    "Create table menuitem(\n",
    "itemID INT AUTO_INCREMENT,\n",
    "name varchar(200),\n",
    "type varchar(100),\n",
    "price int,\n",
    "Primary key(itemID)\n",
    ")\n",
    "\"\"\"\n",
    "cursor.execute(create_table)"
   ]
  },
  {
   "cell_type": "code",
   "execution_count": 20,
   "metadata": {},
   "outputs": [
    {
     "name": "stdout",
     "output_type": "stream",
     "text": [
      "('menuitem',)\n"
     ]
    }
   ],
   "source": [
    "cursor.execute(\"show tables\")\n",
    "for tables in cursor:\n",
    "    print(tables)"
   ]
  },
  {
   "cell_type": "code",
   "execution_count": null,
   "metadata": {},
   "outputs": [],
   "source": []
  }
 ],
 "metadata": {
  "kernelspec": {
   "display_name": "Python 3",
   "language": "python",
   "name": "python3"
  },
  "language_info": {
   "codemirror_mode": {
    "name": "ipython",
    "version": 3
   },
   "file_extension": ".py",
   "mimetype": "text/x-python",
   "name": "python",
   "nbconvert_exporter": "python",
   "pygments_lexer": "ipython3",
   "version": "3.12.1"
  }
 },
 "nbformat": 4,
 "nbformat_minor": 2
}
